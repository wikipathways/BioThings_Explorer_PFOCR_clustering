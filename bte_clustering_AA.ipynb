{
  "nbformat": 4,
  "nbformat_minor": 0,
  "metadata": {
    "colab": {
      "provenance": [],
      "authorship_tag": "ABX9TyP6xHxRuuT/oO2JrYOIGJq6",
      "include_colab_link": true
    },
    "kernelspec": {
      "name": "python3",
      "display_name": "Python 3"
    },
    "language_info": {
      "name": "python"
    }
  },
  "cells": [
    {
      "cell_type": "markdown",
      "metadata": {
        "id": "view-in-github",
        "colab_type": "text"
      },
      "source": [
        "<a href=\"https://colab.research.google.com/github/wikipathways/BioThings_Explorer_PFOCR_clustering/blob/main/bte_clustering_AA.ipynb\" target=\"_parent\"><img src=\"https://colab.research.google.com/assets/colab-badge.svg\" alt=\"Open In Colab\"/></a>"
      ]
    },
    {
      "cell_type": "code",
      "execution_count": 2,
      "metadata": {
        "id": "BrREAxe69lsV"
      },
      "outputs": [],
      "source": [
        "import requests\n"
      ]
    },
    {
      "cell_type": "code",
      "source": [
        "query = {\n",
        "    \"message\": {\n",
        "        \"query_graph\": {\n",
        "            \"edges\": {\n",
        "                \"e0\": {\n",
        "                    \"subject\": \"n0\",\n",
        "                    \"object\": \"n1\",\n",
        "                    \"predicates\": [\n",
        "                        \"biolink:related_to\"\n",
        "                    ]\n",
        "                },\n",
        "                \"e1\": {\n",
        "                    \"subject\": \"n1\",\n",
        "                    \"object\": \"n2\",\n",
        "                    \"predicates\": [\n",
        "                        \"biolink:related_to\"\n",
        "                    ]\n",
        "                }\n",
        "            },\n",
        "            \"nodes\": {\n",
        "                \"n0\": {\n",
        "                    \"ids\": [\n",
        "                        \"MESH:D000068579\"\n",
        "                    ],\n",
        "                    \"categories\": [\n",
        "                        \"biolink:Drug\"\n",
        "                    ]\n",
        "                },\n",
        "                \"n1\": {\n",
        "                    \"categories\": [\n",
        "                        \"biolink:Gene\"\n",
        "                    ],\n",
        "                },\n",
        "                \"n2\": {\n",
        "                    \"ids\": [\n",
        "                        \"MESH:D009371\",\n",
        "                        \"MESH:D001168\",\n",
        "                    ],\n",
        "                    \"categories\": [\n",
        "                        \"biolink:Disease\"\n",
        "                    ]\n",
        "                }\n",
        "            }\n",
        "        }\n",
        "    }\n",
        "}"
      ],
      "metadata": {
        "id": "N3SNW5yW-Wd7"
      },
      "execution_count": 3,
      "outputs": []
    },
    {
      "cell_type": "code",
      "source": [
        "#trapi_response = requests.post(\"http://localhost:3000/v1/query\", json=query)\n",
        "trapi_response = requests.post(\"https://api.bte.ncats.io/v1/query\", json=query)\n",
        "#trapi_response = requests.post(\"https://arax.ncats.io/api/rtxkg2/v1.2/query\", json=query)\n",
        "#trapi_response = requests.post(\"https://arax.ncats.io/api/arax/v1.2/query\", json=query)"
      ],
      "metadata": {
        "id": "fSNNEejx-S__"
      },
      "execution_count": 4,
      "outputs": []
    },
    {
      "cell_type": "code",
      "source": [
        "import json\n",
        "trapi_response.json()[\"message\"]"
      ],
      "metadata": {
        "colab": {
          "base_uri": "https://localhost:8080/"
        },
        "id": "OmUWmNdqAoyZ",
        "outputId": "3ab9c9a4-862d-481d-f364-761b5d218d00"
      },
      "execution_count": 6,
      "outputs": [
        {
          "output_type": "execute_result",
          "data": {
            "text/plain": [
              "{'query_graph': {'edges': {'e0': {'subject': 'n0',\n",
              "    'object': 'n1',\n",
              "    'predicates': ['biolink:related_to']},\n",
              "   'e1': {'subject': 'n1',\n",
              "    'object': 'n2',\n",
              "    'predicates': ['biolink:related_to']}},\n",
              "  'nodes': {'n0': {'ids': ['MESH:D000068579'], 'categories': ['biolink:Drug']},\n",
              "   'n1': {'categories': ['biolink:Gene']},\n",
              "   'n2': {'ids': ['MESH:D009371', 'MESH:D001168'],\n",
              "    'categories': ['biolink:Disease']}}},\n",
              " 'knowledge_graph': {'nodes': {}, 'edges': {}},\n",
              " 'results': []}"
            ]
          },
          "metadata": {},
          "execution_count": 6
        }
      ]
    }
  ]
}