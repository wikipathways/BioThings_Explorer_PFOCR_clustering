{
 "cells": [
  {
   "cell_type": "markdown",
   "metadata": {
    "colab_type": "text",
    "id": "view-in-github"
   },
   "source": [
    "<a href=\"https://colab.research.google.com/github/wikipathways/BioThings_Explorer_PFOCR_clustering/blob/main/PET_notebook_v1.ipynb\" target=\"_parent\"><img src=\"https://colab.research.google.com/assets/colab-badge.svg\" alt=\"Open In Colab\"/></a>"
   ]
  },
  {
   "cell_type": "markdown",
   "metadata": {},
   "source": [
    "# PET Notebook\n",
    "\n",
    "### A notebook for exploring Pathway Enriched TRAPI results\n",
    "\n",
    "For interactive exploration of TRAPI results using the PFOCR pathway figure database to help interpret results by the enrichment of nodes (CURIEs) representing genes, proteins, drugs, metabolites, and diseases.\n",
    "\n",
    "Run the entire notebook to process an example TRAPI response. Paste your own result URL into the User Inputs form below and re-run all cells below it. Then scroll down to the Overview of Pathway Figure Results section to explore your own results.\n",
    "\n",
    "Features:\n",
    " * Toggle code view - this button will hide all code chunks (might not work in Google Colab, which has its own chunk hiding features)\n",
    " * Maximum number of pathway results - default is 15. Reduce this by slider or by typing to focus on fewer results.\n",
    " * Require specified query nodes in pathway results - default is True. Deselect if there are too few pathway results or if you really don't particularly care about the nodes specified in your query."
   ]
  },
  {
   "cell_type": "markdown",
   "metadata": {},
   "source": [
    "## Setup\n",
    "\n",
    "Installation of required packages. "
   ]
  },
  {
   "cell_type": "code",
   "execution_count": 1,
   "metadata": {},
   "outputs": [],
   "source": [
    "!pip install numpy pandas requests requests_cache SetSimilaritySearch fisher > pip-log.txt"
   ]
  },
  {
   "cell_type": "code",
   "execution_count": 2,
   "metadata": {
    "id": "BrREAxe69lsV"
   },
   "outputs": [
    {
     "data": {
      "text/html": [
       "\n",
       "<script>\n",
       "code_show=true; \n",
       "function code_toggle() {\n",
       " if (code_show){\n",
       " $('div.input').hide();\n",
       " } else {\n",
       " $('div.input').show();\n",
       " }\n",
       " code_show = !code_show\n",
       "} \n",
       "$( document ).ready(code_toggle);\n",
       "</script>\n",
       "<form action=\"javascript:code_toggle()\"><input type=\"submit\" value=\"Toggle code view\"></form>\n"
      ],
      "text/plain": [
       "<IPython.core.display.HTML object>"
      ]
     },
     "metadata": {},
     "output_type": "display_data"
    }
   ],
   "source": [
    "from IPython.display import display, HTML\n",
    "display(HTML('''\n",
    "<script>\n",
    "code_show=true; \n",
    "function code_toggle() {\n",
    " if (code_show){\n",
    " $('div.input').hide();\n",
    " } else {\n",
    " $('div.input').show();\n",
    " }\n",
    " code_show = !code_show\n",
    "} \n",
    "$( document ).ready(code_toggle);\n",
    "</script>\n",
    "<form action=\"javascript:code_toggle()\"><input type=\"submit\" value=\"Toggle code view\"></form>\n",
    "'''))\n",
    "#load packages\n",
    "from urllib.request import urlopen\n",
    "import requests\n",
    "import json\n",
    "import numpy as np\n",
    "from copy import copy,deepcopy\n",
    "import pandas as pd\n",
    "from fisher import pvalue_npy\n",
    "from scipy.stats import fisher_exact\n",
    "# Importing reduce for rolling computations\n",
    "from functools import reduce\n",
    "import ipywidgets as widgets\n",
    "import matplotlib.pyplot as plt\n",
    "import seaborn as sns\n",
    "from matplotlib.colors import LinearSegmentedColormap"
   ]
  },
  {
   "cell_type": "markdown",
   "metadata": {},
   "source": [
    "## User Inputs\n",
    "\n",
    "Please complete the form below."
   ]
  },
  {
   "cell_type": "code",
   "execution_count": 3,
   "metadata": {},
   "outputs": [
    {
     "data": {
      "application/vnd.jupyter.widget-view+json": {
       "model_id": "f06ac045e68d43bbbf3f635594ee2d87",
       "version_major": 2,
       "version_minor": 0
      },
      "text/plain": [
       "Box(children=(VBox(children=(HBox(children=(Label(value='TRAPI Result URL:'), Text(value='https://arax.ncats.i…"
      ]
     },
     "metadata": {},
     "output_type": "display_data"
    }
   ],
   "source": [
    "# TRAPI Result URL\n",
    "trapi_results_url = widgets.Text(\n",
    "    value='https://arax.ncats.io/api/arax/v1.3/response/7b14f961-9066-41f7-9e3b-d76b2b4a7fac',\n",
    "    placeholder='Paste here',\n",
    "    description='',\n",
    "    disabled=False\n",
    ")\n",
    "\n",
    "# Max number of pathway results desired\n",
    "num_pathways = widgets.IntSlider(\n",
    "    value=15,\n",
    "    min=1,\n",
    "    max=15,\n",
    "    step=1,\n",
    "    description='',\n",
    "    disabled=False,\n",
    "    continuous_update=False,\n",
    "    orientation='horizontal',\n",
    "    readout=True,\n",
    "    readout_format='d'\n",
    ")\n",
    "\n",
    "# Whether to require figure results include user-specified node IDs from the query\n",
    "# If true then atleast one of the specified query node ids must be in the result figures\n",
    "# If false then figures without any of these node ids are also included\n",
    "require_specified_query_nodes = widgets.Checkbox(\n",
    "    value=True,\n",
    "    description='',\n",
    "    disabled=False,\n",
    "    indent=False\n",
    ")\n",
    "require_specified_query_nodes\n",
    "\n",
    "box_items = [widgets.VBox([widgets.HBox([widgets.Label('TRAPI Result URL:'),trapi_results_url]),\n",
    "                        widgets.HBox([widgets.Label('Maxiumum number of desired pathway results:'),num_pathways]),\n",
    "                        widgets.HBox([widgets.Label('Require specified query nodes in pathway results:'),require_specified_query_nodes])])]\n",
    "widgets.Box(box_items, layout=widgets.Layout(\n",
    "    display='flex',\n",
    "    flex_flow='column',\n",
    "    border='solid 2px',\n",
    "    align_items='stretch',\n",
    "    width='62%'\n",
    "))"
   ]
  },
  {
   "cell_type": "markdown",
   "metadata": {},
   "source": [
    "## Load TRAPI Results\n",
    "\n",
    "Retrieve the JSON response from the provided URL."
   ]
  },
  {
   "cell_type": "code",
   "execution_count": 4,
   "metadata": {
    "scrolled": true
   },
   "outputs": [
    {
     "name": "stdout",
     "output_type": "stream",
     "text": [
      "Summary: query_graph: 2 edges, 3 nodes; results: 7\n"
     ]
    }
   ],
   "source": [
    "with urlopen(trapi_results_url.value) as url:\n",
    "    trapi_results_json = json.load(url)\n",
    "\n",
    "# get the TRAPI results and knowledge graph from the json response\n",
    "trapi_message = trapi_results_json['message']\n",
    "trapi_query = trapi_message[\"query_graph\"]\n",
    "trapi_results = trapi_message[\"results\"]\n",
    "trapi_results_df = pd.json_normalize(trapi_results)\n",
    "\n",
    "# prepare results as a human-readable dataframe\n",
    "for c in list(trapi_results_df.columns):\n",
    "    if isinstance(trapi_results_df[c][0], list):\n",
    "        trapi_results_df[c] = trapi_results_df[c].str[0].str['id']\n",
    "        \n",
    "print('Summary: query_graph:',\n",
    "      len(trapi_query['edges'].items()),'edges,',\n",
    "      len(trapi_query['nodes'].items()),'nodes; results:',\n",
    "      len(trapi_results) )\n",
    "#display(trapi_results_df)"
   ]
  },
  {
   "cell_type": "markdown",
   "metadata": {},
   "source": [
    "## Normalize TRAPI Result Dataframe for Enrichment Analysis\n",
    "  \n",
    "Unify node identifiers to sources supported by PFOCR pathway figures (NCBIGene, MESH) and prepare CURIE sets for enrichment analysis."
   ]
  },
  {
   "cell_type": "code",
   "execution_count": 5,
   "metadata": {
    "scrolled": false
   },
   "outputs": [
    {
     "data": {
      "text/html": [
       "<div>\n",
       "<style scoped>\n",
       "    .dataframe tbody tr th:only-of-type {\n",
       "        vertical-align: middle;\n",
       "    }\n",
       "\n",
       "    .dataframe tbody tr th {\n",
       "        vertical-align: top;\n",
       "    }\n",
       "\n",
       "    .dataframe thead th {\n",
       "        text-align: right;\n",
       "    }\n",
       "</style>\n",
       "<table border=\"1\" class=\"dataframe\">\n",
       "  <thead>\n",
       "    <tr style=\"text-align: right;\">\n",
       "      <th></th>\n",
       "      <th>reasoner_id</th>\n",
       "      <th>score</th>\n",
       "      <th>node_bindings.n0</th>\n",
       "      <th>node_bindings.n1</th>\n",
       "      <th>node_bindings.n2</th>\n",
       "    </tr>\n",
       "  </thead>\n",
       "  <tbody>\n",
       "    <tr>\n",
       "      <th>0</th>\n",
       "      <td>BTE</td>\n",
       "      <td>2.906806</td>\n",
       "      <td>PUBCHEM.COMPOUND:123596</td>\n",
       "      <td>NCBIGene:7422</td>\n",
       "      <td>HP:0002099</td>\n",
       "    </tr>\n",
       "    <tr>\n",
       "      <th>1</th>\n",
       "      <td>BTE</td>\n",
       "      <td>1.120319</td>\n",
       "      <td>PUBCHEM.COMPOUND:123596</td>\n",
       "      <td>NCBIGene:841</td>\n",
       "      <td>HP:0002099</td>\n",
       "    </tr>\n",
       "    <tr>\n",
       "      <th>2</th>\n",
       "      <td>BTE</td>\n",
       "      <td>0.851030</td>\n",
       "      <td>PUBCHEM.COMPOUND:123596</td>\n",
       "      <td>NCBIGene:4067</td>\n",
       "      <td>HP:0002099</td>\n",
       "    </tr>\n",
       "    <tr>\n",
       "      <th>3</th>\n",
       "      <td>BTE</td>\n",
       "      <td>0.796666</td>\n",
       "      <td>PUBCHEM.COMPOUND:123596</td>\n",
       "      <td>NCBIGene:3576</td>\n",
       "      <td>HP:0002099</td>\n",
       "    </tr>\n",
       "    <tr>\n",
       "      <th>4</th>\n",
       "      <td>BTE</td>\n",
       "      <td>0.000000</td>\n",
       "      <td>PUBCHEM.COMPOUND:123596</td>\n",
       "      <td>NCBIGene:142</td>\n",
       "      <td>HP:0002099</td>\n",
       "    </tr>\n",
       "    <tr>\n",
       "      <th>5</th>\n",
       "      <td>BTE</td>\n",
       "      <td>0.000000</td>\n",
       "      <td>PUBCHEM.COMPOUND:123596</td>\n",
       "      <td>NCBIGene:5156</td>\n",
       "      <td>HP:0002099</td>\n",
       "    </tr>\n",
       "    <tr>\n",
       "      <th>6</th>\n",
       "      <td>BTE</td>\n",
       "      <td>0.000000</td>\n",
       "      <td>PUBCHEM.COMPOUND:123596</td>\n",
       "      <td>NCBIGene:3725</td>\n",
       "      <td>HP:0002099</td>\n",
       "    </tr>\n",
       "  </tbody>\n",
       "</table>\n",
       "</div>"
      ],
      "text/plain": [
       "  reasoner_id     score         node_bindings.n0 node_bindings.n1  \\\n",
       "0         BTE  2.906806  PUBCHEM.COMPOUND:123596    NCBIGene:7422   \n",
       "1         BTE  1.120319  PUBCHEM.COMPOUND:123596     NCBIGene:841   \n",
       "2         BTE  0.851030  PUBCHEM.COMPOUND:123596    NCBIGene:4067   \n",
       "3         BTE  0.796666  PUBCHEM.COMPOUND:123596    NCBIGene:3576   \n",
       "4         BTE  0.000000  PUBCHEM.COMPOUND:123596     NCBIGene:142   \n",
       "5         BTE  0.000000  PUBCHEM.COMPOUND:123596    NCBIGene:5156   \n",
       "6         BTE  0.000000  PUBCHEM.COMPOUND:123596    NCBIGene:3725   \n",
       "\n",
       "  node_bindings.n2  \n",
       "0       HP:0002099  \n",
       "1       HP:0002099  \n",
       "2       HP:0002099  \n",
       "3       HP:0002099  \n",
       "4       HP:0002099  \n",
       "5       HP:0002099  \n",
       "6       HP:0002099  "
      ]
     },
     "metadata": {},
     "output_type": "display_data"
    }
   ],
   "source": [
    "# Using the xrefs in knowledge_graph node attributes we are building dictionaries of \n",
    "# result CURIEs and names.\n",
    "preferred_prefixes = set([\"NCBIGene\", \"MESH\"])\n",
    "curie_to_name = dict()\n",
    "curie_to_unified_curies = dict()\n",
    "for k, v in trapi_message[\"knowledge_graph\"][\"nodes\"].items():\n",
    "    #curie_to_name[k] = v[\"name\"]\n",
    "    #first check is k is already what we want\n",
    "    [prefix, identifier] = k.split(\":\")\n",
    "    if prefix in preferred_prefixes:\n",
    "        curie_to_unified_curies[k] = k\n",
    "    #else dig into attributes to collect one or more relevant mappings\n",
    "    else:            \n",
    "        for a in v[\"attributes\"]:\n",
    "            if a[\"attribute_type_id\"] == \"biolink:xref\":\n",
    "                curies = a[\"value\"]\n",
    "                unified_curies = set()\n",
    "                for curie in curies:\n",
    "                    [prefix, identifier] = curie.split(\":\")\n",
    "                    if prefix in preferred_prefixes:\n",
    "                        unified_curies.add(curie)\n",
    "                #assess collected curies\n",
    "                if len(unified_curies) == 1:\n",
    "                    curie_to_unified_curies[k] = list(unified_curies)[0]\n",
    "                elif len(unified_curies) > 1:\n",
    "                    curie_to_unified_curies[k] = unified_curies\n",
    "                    \n",
    "# Append new columns to results df: name and unified_curie\n",
    "columns_to_lookup = [col for col in trapi_results_df.columns if col.startswith(\"node_bindings\") and col[-2].lower() == 'n'  and col[-1].isdigit()]\n",
    "new_name_columns = [col.replace(\"bindings\",\"name\") for col in columns_to_lookup]\n",
    "new_unified_curies_columns = [col.replace(\"bindings\",\"unified_curies\") for col in columns_to_lookup]\n",
    "\n",
    "# Simple lookup function\n",
    "def lookup(row, col, lookup_dict):\n",
    "    return lookup_dict.get(row[col], 'NA')\n",
    "\n",
    "# Add the new columns per node by applying the lookup function\n",
    "for i in range(len(columns_to_lookup)):\n",
    "    #trapi_results_df[new_name_columns[i]] = trapi_results_df.apply(lambda row: lookup(row, columns_to_lookup[i], curie_to_name), axis=1)\n",
    "    trapi_results_df[new_unified_curies_columns[i]] = trapi_results_df.apply(lambda row: lookup(row, columns_to_lookup[i], curie_to_unified_curies), axis=1)\n",
    "\n",
    "# Append a new columns: result_name and unified_curie_set for pathway analysis\n",
    "#trapi_results_df['result_name'] = trapi_results_df[new_name_columns[0]].str.cat(trapi_results_df[new_name_columns], sep=\"_\")\n",
    "trapi_results_df['result_name'] = trapi_results_df.reset_index().index.astype(str)\n",
    "#trapi_results_df['result_name'] = trapi_results_df['result_name'].str.cat(trapi_results_df[new_name_columns], sep='_')\n",
    "\n",
    "\n",
    "def collect_curie_set(row):\n",
    "    unified_curie_set = set()\n",
    "    for c in new_unified_curies_columns:\n",
    "        if isinstance(row[c], set):\n",
    "            unified_curie_set.update(row[c])\n",
    "        else:\n",
    "            unified_curie_set.add(row[c])\n",
    "    return unified_curie_set\n",
    "trapi_results_df['unified_curie_set'] = trapi_results_df.apply(collect_curie_set, axis=1)\n",
    "display_columns = ['reasoner_id','score']\n",
    "display_columns.extend(columns_to_lookup)\n",
    "display(trapi_results_df[display_columns])"
   ]
  },
  {
   "cell_type": "markdown",
   "metadata": {},
   "source": [
    "## Collect CURIEs specified in query\n",
    "\n",
    "Prepare a set of unified CURIEs from the specified query nodes. This set will be used to restrict or prioritize enrichment results based on the user parameter: `require_specified_query_nodes`."
   ]
  },
  {
   "cell_type": "code",
   "execution_count": 6,
   "metadata": {},
   "outputs": [
    {
     "name": "stdout",
     "output_type": "stream",
     "text": [
      "set()\n"
     ]
    }
   ],
   "source": [
    "#get all nodes with ids from the query \n",
    "user_specified_ids = set()\n",
    "for k, v in trapi_query['nodes'].items():\n",
    "    node_ids = v.get('ids', [])\n",
    "    if node_ids:\n",
    "        n = trapi_results[0]['node_bindings'][k][0]['id']\n",
    "        c = curie_to_unified_curies.get(n)\n",
    "        if isinstance(c, set):\n",
    "            user_specified_ids.update(c)\n",
    "        else:\n",
    "            user_specified_ids.add(c)\n",
    "print(user_specified_ids)        "
   ]
  },
  {
   "cell_type": "markdown",
   "metadata": {},
   "source": [
    "## Load PFOCR Pathway Figure Database\n",
    "\n",
    "Load pathway figure content and metadata for enrichment analysis."
   ]
  },
  {
   "cell_type": "code",
   "execution_count": 7,
   "metadata": {},
   "outputs": [],
   "source": [
    "# read in figure metadata for all PFOCR figures\n",
    "figure_metadata_df = pd.read_csv('https://www.dropbox.com/s/9jorbzpq2k8n5tr/figures_metadata.csv?dl=1', index_col=0)\n",
    "\n",
    "# read in figure CURIEs for all PFOCR figures\n",
    "figure_curie_df = pd.read_csv('https://www.dropbox.com/s/y3ks74obs3nrjjz/figures_curie.csv?dl=1')"
   ]
  },
  {
   "cell_type": "code",
   "execution_count": 8,
   "metadata": {
    "scrolled": false
   },
   "outputs": [
    {
     "name": "stdout",
     "output_type": "stream",
     "text": [
      "Total number of PFOCR pathways:  77719\n",
      "Total number of PFOCR pathway CURIEs:  30163\n",
      "Total number of TRAPI result CURIEs:  8\n"
     ]
    }
   ],
   "source": [
    "# Define total sets of unified curies for enrichment test\n",
    "total_pfocr_pathways = len(figure_metadata_df.index)\n",
    "print(\"Total number of PFOCR pathways: \", total_pfocr_pathways)\n",
    "total_pfocr_curies = set(figure_curie_df['curie'])\n",
    "print(\"Total number of PFOCR pathway CURIEs: \", len(total_pfocr_curies))\n",
    "total_result_curies = set([item for sub_set in trapi_results_df['unified_curie_set'] for item in sub_set])\n",
    "total_result_curies_possible = total_result_curies.intersection(total_pfocr_curies) #only consider possible matches\n",
    "print(\"Total number of TRAPI result CURIEs: \", len(total_result_curies_possible))"
   ]
  },
  {
   "cell_type": "markdown",
   "metadata": {},
   "source": [
    "## Iterative Enrichment of TRAPI Results Using PFOCR Pathway Figures\n",
    "\n",
    "We identify the top PFOCR figures by iteratively running Fisher's Exact Test to identify PFOCR pathway figures that are most similar to all the CURIEs from the TRAPI results. To get each figure, we do the following:\n",
    "\n",
    "1. Run Fisher's Exact Test for the CURIEs from each figure vs. the set of the unique CURIEs found from all the TRAPI results, limiting each set of CURIEs to those found in any PFOCR pathway figure\n",
    "2. Select the pathway figure with the lowest p-value\n",
    "3. Exclude that pathway figure and the CURIEs in it\n",
    "4. Repeat to get the next pathway figure, continuing until:\n",
    "    - we run out of enrichement results\n",
    "    - we repeated steps 1-3 the desired number of times (user input: ```num_pathways```)"
   ]
  },
  {
   "cell_type": "code",
   "execution_count": 9,
   "metadata": {},
   "outputs": [],
   "source": [
    "# Definition the parameters with example values for enrichment test\n",
    "# M = 30163  # Total number of curies in PFOCR pathway figure database\n",
    "# N = 571   # Total number of curies in TRAPI result set\n",
    "# x = 10   # Number of curies in the TRAPI result set that belong to a particular pathway\n",
    "# k = 24   # Number of curies in a particular pathway \n",
    "\n",
    "def set_union(series):\n",
    "    return reduce(lambda x, y: x | y, series)\n",
    "\n",
    "def create_set(series):\n",
    "    return set(series.tolist())\n",
    "\n",
    "def get_results_by_curies(curie_set):\n",
    "    subset_df = trapi_results_df[trapi_results_df['unified_curie_set'].apply(lambda x: len(x.intersection(curie_set)) > 0)]\n",
    "    return set(subset_df['result_name'].tolist())\n",
    "\n",
    "pathway_figure_data = []\n",
    "def get_next_pathway_figures(\n",
    "    possible_matched_pfocr_curie_count,\n",
    "    remaining_figures_df,\n",
    "    remaining_trapi_curie_count,\n",
    "    required_curies,\n",
    "    iteration_limit=num_pathways.value, #this is the user-defined parameter for the number of figures\n",
    "    i=0,\n",
    "    pathway_figure_ids=[],\n",
    "):\n",
    "    remaining_figure_count = len(\n",
    "        remaining_figures_df\n",
    "    )\n",
    "\n",
    "    if (\n",
    "        i >= iteration_limit\n",
    "    ) or (\n",
    "        len(remaining_trapi_curie_count) == 0\n",
    "    ) or (\n",
    "        remaining_figure_count == 0\n",
    "    ):\n",
    "        return pathway_figure_ids\n",
    "    \n",
    "    remaining_figures_df[\"figure_curie_count\"] = remaining_figures_df[\"curie_set\"].map(len)\n",
    "\n",
    "    remaining_figures_df[\"figure_curies_in_trapi_results\"] = remaining_figures_df[\"curie_set\"].map(\n",
    "        lambda curie_set: remaining_trapi_curie_count.intersection(\n",
    "            set(curie_set)\n",
    "        )\n",
    "    )\n",
    "\n",
    "    # number of CURIEs in both TRAPI results and figure = x\n",
    "    remaining_figures_df[\"yes_trapi_results_yes_figure\"] = remaining_figures_df[\n",
    "        \"figure_curies_in_trapi_results\"\n",
    "    ].map(len)\n",
    "\n",
    "    # number of CURIEs in TRAPI results but not in figure = N-x\n",
    "    remaining_figures_df[\"yes_trapi_results_no_figure\"] = (\n",
    "        len(remaining_trapi_curie_count) -\n",
    "        remaining_figures_df[\"yes_trapi_results_yes_figure\"]\n",
    "    )\n",
    "\n",
    "    # number of CURIEs not in TRAPI results but in figure = k-x\n",
    "    remaining_figures_df[\"no_trapi_results_yes_figure\"] = (\n",
    "        remaining_figures_df[\"figure_curie_count\"] -\n",
    "        remaining_figures_df[\"yes_trapi_results_yes_figure\"]\n",
    "    )\n",
    "\n",
    "    # number of CURIEs not in TRAPI results and not in figure = M-k-(N-x)\n",
    "    # ie., number of unique CURIEs only in other figures\n",
    "    remaining_figures_df[\"no_trapi_results_no_figure\"] = (\n",
    "        possible_matched_pfocr_curie_count -\n",
    "        remaining_figures_df[\"figure_curie_count\"] -\n",
    "        remaining_figures_df[\"yes_trapi_results_no_figure\"]\n",
    "    )\n",
    "\n",
    "    # Vectorized fisher_exact test, see https://stackoverflow.com/a/58661068/5354298\n",
    "    # Contingency table values (in arg order): x, N-x, k-x, M-k-(N-x) \n",
    "    _, _, twosided = pvalue_npy(\n",
    "        remaining_figures_df[\"yes_trapi_results_yes_figure\"].to_numpy('uint'),\n",
    "        remaining_figures_df[\"yes_trapi_results_no_figure\"].to_numpy('uint'),\n",
    "        remaining_figures_df[\"no_trapi_results_yes_figure\"].to_numpy('uint'),\n",
    "        remaining_figures_df[\"no_trapi_results_no_figure\"].to_numpy('uint'),\n",
    "    )\n",
    "\n",
    "    remaining_figures_df[\"p_value\"] = pd.Series(twosided, index=remaining_figures_df.index)\n",
    "    remaining_figures_df[\"p_value\"].sort_values()\n",
    "    \n",
    "    # In case of a p_value tie, we sort by yes_trapi_results_yes_figure count and keep the top single hit\n",
    "    min_df = remaining_figures_df[\n",
    "        remaining_figures_df[\"p_value\"] == remaining_figures_df[\"p_value\"].min()\n",
    "    ]\n",
    "    min_df = min_df.sort_values(by='yes_trapi_results_yes_figure', ascending=False).head(1)\n",
    "    \n",
    "    if required_curies:\n",
    "        # TODO: it might make sense to keep prioritizing the required CURIEs, but\n",
    "        #       it's not clear whether this is always what we want.\n",
    "        #       In some cases, we could obscure a different set of results that may\n",
    "        #       be valuable but not because of the overlap with the required CURIEs.\n",
    "        curies_to_exclude = set(\n",
    "            min_df[\"figure_curies_in_trapi_results\"].agg(set_union)\n",
    "        ) - required_curies\n",
    "    else:\n",
    "        curies_to_exclude = set(min_df[\"figure_curies_in_trapi_results\"].agg(set_union))\n",
    "        \n",
    "    if len(curies_to_exclude - required_curies) == 0:\n",
    "        # On this iteration, we failed to match any new CURIE(s), other than\n",
    "        # possibly just the required CURIEs.\n",
    "        return pathway_figure_ids\n",
    "        \n",
    "    new_pathway_figure_ids = min_df.index.tolist()\n",
    "    pathway_figure_ids.extend(new_pathway_figure_ids)\n",
    "    \n",
    "    for pathway_figure_id, min_row in min_df.iterrows():\n",
    "        pathway_figure_data.append({\n",
    "            \"iteration\": i,\n",
    "            \"figure_id\": pathway_figure_id,\n",
    "            \"p_value\": min_row[\"p_value\"],\n",
    "            \"yes_trapi_results_yes_figure\": min_row[\"yes_trapi_results_yes_figure\"],\n",
    "            \"yes_trapi_results_no_figure\": min_row[\"yes_trapi_results_no_figure\"],\n",
    "            \"no_trapi_results_yes_figure\": min_row[\"no_trapi_results_yes_figure\"],\n",
    "            \"no_trapi_results_no_figure\": min_row[\"no_trapi_results_no_figure\"],\n",
    "            \"figure_curies_in_trapi_results\": min_row[\"figure_curies_in_trapi_results\"],\n",
    "            \"trapi_result_set\": get_results_by_curies(curies_to_exclude),\n",
    "            \"trapi_result_count\": 0,\n",
    "            \"curie_set\": min_row[\"curie_set\"],\n",
    "            \"curies_to_exclude\": curies_to_exclude,\n",
    "            \"len_curies_to_exclude\": len(curies_to_exclude),\n",
    "            \"remaining_figure_count\": remaining_figure_count,\n",
    "            \"remaining_trapi_curie_count\": len(remaining_trapi_curie_count),\n",
    "            \"pathway_figure_id_count\": len(pathway_figure_ids),\n",
    "        })\n",
    "    \n",
    "    # for next iteration, exclude figures we've already added to cluster figures\n",
    "    next_remaining_figures_df = remaining_figures_df[\n",
    "        (~remaining_figures_df.index.isin(\n",
    "            pathway_figure_ids\n",
    "        ))\n",
    "    ]\n",
    "    \n",
    "    #print(f'iteration {i:>2}: figures: {len(new_pathway_figure_ids):>2}, CURIEs: {len(curies_to_exclude):>2}')\n",
    "    \n",
    "    return get_next_pathway_figures(\n",
    "        possible_matched_pfocr_curie_count,\n",
    "        next_remaining_figures_df.reset_index().set_index(\"figure_id\"),\n",
    "        remaining_trapi_curie_count - curies_to_exclude,\n",
    "        required_curies,\n",
    "        iteration_limit,\n",
    "        i + 1,\n",
    "        pathway_figure_ids,\n",
    "    )\n",
    "\n",
    "possible_matched_figure_curie_df = figure_curie_df[figure_curie_df[\"curie\"].isin(\n",
    "    list(total_pfocr_curies)\n",
    ")]\n",
    "possible_matched_pfocr_curie_count = len(set(\n",
    "    possible_matched_figure_curie_df[\"curie\"].drop_duplicates()\n",
    "))\n",
    "#print(f'possible_matched_pfocr_curie_count: {possible_matched_pfocr_curie_count}')\n",
    "\n",
    "possible_matched_figures_df = possible_matched_figure_curie_df[\n",
    "    [\"figure_id\", \"curie\"]\n",
    "].groupby(\"figure_id\").agg(\n",
    "    create_set\n",
    ").rename(columns={\n",
    "    \"curie\": \"curie_set\"\n",
    "})\n",
    "\n",
    "possible_matched_figures_df[\"figure_curies_in_trapi_results_count\"] = possible_matched_figures_df[\n",
    "    \"curie_set\"\n",
    "].map(\n",
    "    lambda curie_set: len(total_result_curies_possible.intersection(\n",
    "        set(curie_set)\n",
    "    ))\n",
    ")\n",
    "\n",
    "overlapping_possible_matched_figures_df = possible_matched_figures_df[\n",
    "    possible_matched_figures_df[\"figure_curies_in_trapi_results_count\"] > 0\n",
    "]\n",
    "\n",
    "# Require that figures have user-specified CURIEs from the query\n",
    "if require_specified_query_nodes.value:\n",
    "    required_curies = user_specified_ids\n",
    "if required_curies:\n",
    "    overlapping_possible_matched_figures_df = overlapping_possible_matched_figures_df[\n",
    "        overlapping_possible_matched_figures_df[\"curie_set\"].map(\n",
    "            # require all of them\n",
    "            # lambda curie_set: len(curie_set.intersection(required_curies)) == len(required_curies)\n",
    "            # require at least one of them\n",
    "            lambda curie_set: len(curie_set.intersection(required_curies)) > 0\n",
    "        )\n",
    "    ]\n",
    "\n",
    "pathway_figure_ids_out = get_next_pathway_figures(\n",
    "    possible_matched_pfocr_curie_count,\n",
    "    overlapping_possible_matched_figures_df.reset_index().set_index(\"figure_id\"),\n",
    "    total_result_curies_possible,\n",
    "    required_curies,\n",
    ")\n",
    "#print(f'pathway figure count: {len(pathway_figure_ids_out)}')\n",
    "pathway_figure_df = pd.DataFrame.from_records(pathway_figure_data)\n",
    "pathway_figure_df['trapi_result_count'] = pathway_figure_df['trapi_result_set'].apply(lambda x: len(x))\n",
    "#display(pathway_figure_df)"
   ]
  },
  {
   "cell_type": "markdown",
   "metadata": {},
   "source": [
    "# Overview of Pathway Figure Results\n",
    "\n",
    "The figures and tables below summarize the intersections and groupings of your TRAPI results with published pathway figures from the PFOCR daatbase.\n",
    "\n",
    "### TRAPI results grouped by pathway figures\n",
    "\n",
    "Each pathway figure in order of significance with metadata and a table of the TRAPI results containing pathway-intersecting CURIEs (beyond the \"required\" CURIEs). Click 'o' to toggle between 3 output modes."
   ]
  },
  {
   "cell_type": "code",
   "execution_count": 10,
   "metadata": {},
   "outputs": [
    {
     "name": "stdout",
     "output_type": "stream",
     "text": [
      "Total number of pathway figure results: 3\n"
     ]
    },
    {
     "data": {
      "text/html": [
       "<hr>"
      ],
      "text/plain": [
       "<IPython.core.display.HTML object>"
      ]
     },
     "metadata": {},
     "output_type": "display_data"
    },
    {
     "data": {
      "text/html": [
       "<img src=\"https://www.ncbi.nlm.nih.gov/pmc/articles/PMC3929246/bin/bctt-5-043Fig1.jpg\"/>"
      ],
      "text/plain": [
       "<IPython.core.display.Image object>"
      ]
     },
     "metadata": {},
     "output_type": "display_data"
    },
    {
     "data": {
      "text/html": [
       "<h3>1.&nbsp;Contribution of toll-like receptor signaling pathways to breast tumorigenesis and treatment.</h3>&nbsp;&nbsp;&nbsp;&nbsp; * <a href=\"https://pfocr.wikipathways.org/figures/PMC3929246__bctt-5-043Fig1.html\" target=\"_blank\">Link to pathway figure at PFOCR</a> * <a href=\"https://www.ncbi.nlm.nih.gov/pmc/articles/PMC3929246\" target=\"_blank\">Link to article at PMC</a>"
      ],
      "text/plain": [
       "<IPython.core.display.HTML object>"
      ]
     },
     "metadata": {},
     "output_type": "display_data"
    },
    {
     "name": "stdout",
     "output_type": "stream",
     "text": [
      "Number of TRAPI results represented by this pathway: 4\n",
      "Number of CURIEs represented by this pathway: 4\n",
      "Query-specified CURIEs in this pathway: set()\n"
     ]
    },
    {
     "data": {
      "text/html": [
       "<div>\n",
       "<style scoped>\n",
       "    .dataframe tbody tr th:only-of-type {\n",
       "        vertical-align: middle;\n",
       "    }\n",
       "\n",
       "    .dataframe tbody tr th {\n",
       "        vertical-align: top;\n",
       "    }\n",
       "\n",
       "    .dataframe thead th {\n",
       "        text-align: right;\n",
       "    }\n",
       "</style>\n",
       "<table border=\"1\" class=\"dataframe\">\n",
       "  <thead>\n",
       "    <tr style=\"text-align: right;\">\n",
       "      <th></th>\n",
       "      <th>reasoner_id</th>\n",
       "      <th>score</th>\n",
       "      <th>node_bindings.n0</th>\n",
       "      <th>node_bindings.n1</th>\n",
       "      <th>node_bindings.n2</th>\n",
       "    </tr>\n",
       "  </thead>\n",
       "  <tbody>\n",
       "    <tr>\n",
       "      <th>1</th>\n",
       "      <td>BTE</td>\n",
       "      <td>1.120319</td>\n",
       "      <td>PUBCHEM.COMPOUND:123596</td>\n",
       "      <td>NCBIGene:841</td>\n",
       "      <td>HP:0002099</td>\n",
       "    </tr>\n",
       "    <tr>\n",
       "      <th>3</th>\n",
       "      <td>BTE</td>\n",
       "      <td>0.796666</td>\n",
       "      <td>PUBCHEM.COMPOUND:123596</td>\n",
       "      <td>NCBIGene:3576</td>\n",
       "      <td>HP:0002099</td>\n",
       "    </tr>\n",
       "    <tr>\n",
       "      <th>4</th>\n",
       "      <td>BTE</td>\n",
       "      <td>0.000000</td>\n",
       "      <td>PUBCHEM.COMPOUND:123596</td>\n",
       "      <td>NCBIGene:142</td>\n",
       "      <td>HP:0002099</td>\n",
       "    </tr>\n",
       "    <tr>\n",
       "      <th>6</th>\n",
       "      <td>BTE</td>\n",
       "      <td>0.000000</td>\n",
       "      <td>PUBCHEM.COMPOUND:123596</td>\n",
       "      <td>NCBIGene:3725</td>\n",
       "      <td>HP:0002099</td>\n",
       "    </tr>\n",
       "  </tbody>\n",
       "</table>\n",
       "</div>"
      ],
      "text/plain": [
       "  reasoner_id     score         node_bindings.n0 node_bindings.n1  \\\n",
       "1         BTE  1.120319  PUBCHEM.COMPOUND:123596     NCBIGene:841   \n",
       "3         BTE  0.796666  PUBCHEM.COMPOUND:123596    NCBIGene:3576   \n",
       "4         BTE  0.000000  PUBCHEM.COMPOUND:123596     NCBIGene:142   \n",
       "6         BTE  0.000000  PUBCHEM.COMPOUND:123596    NCBIGene:3725   \n",
       "\n",
       "  node_bindings.n2  \n",
       "1       HP:0002099  \n",
       "3       HP:0002099  \n",
       "4       HP:0002099  \n",
       "6       HP:0002099  "
      ]
     },
     "metadata": {},
     "output_type": "display_data"
    },
    {
     "data": {
      "text/html": [
       "<hr>"
      ],
      "text/plain": [
       "<IPython.core.display.HTML object>"
      ]
     },
     "metadata": {},
     "output_type": "display_data"
    },
    {
     "data": {
      "text/html": [
       "<img src=\"https://www.ncbi.nlm.nih.gov/pmc/articles/PMC5919962/bin/fonc-08-00107-g001.jpg\"/>"
      ],
      "text/plain": [
       "<IPython.core.display.Image object>"
      ]
     },
     "metadata": {},
     "output_type": "display_data"
    },
    {
     "data": {
      "text/html": [
       "<h3>2.&nbsp;Platelet targeted therapeutics</h3>&nbsp;&nbsp;&nbsp;&nbsp; * <a href=\"https://pfocr.wikipathways.org/figures/PMC5919962__fonc-08-00107-g001.html\" target=\"_blank\">Link to pathway figure at PFOCR</a> * <a href=\"https://www.ncbi.nlm.nih.gov/pmc/articles/PMC5919962\" target=\"_blank\">Link to article at PMC</a>"
      ],
      "text/plain": [
       "<IPython.core.display.HTML object>"
      ]
     },
     "metadata": {},
     "output_type": "display_data"
    },
    {
     "name": "stdout",
     "output_type": "stream",
     "text": [
      "Number of TRAPI results represented by this pathway: 3\n",
      "Number of CURIEs represented by this pathway: 3\n",
      "Query-specified CURIEs in this pathway: set()\n"
     ]
    },
    {
     "data": {
      "text/html": [
       "<div>\n",
       "<style scoped>\n",
       "    .dataframe tbody tr th:only-of-type {\n",
       "        vertical-align: middle;\n",
       "    }\n",
       "\n",
       "    .dataframe tbody tr th {\n",
       "        vertical-align: top;\n",
       "    }\n",
       "\n",
       "    .dataframe thead th {\n",
       "        text-align: right;\n",
       "    }\n",
       "</style>\n",
       "<table border=\"1\" class=\"dataframe\">\n",
       "  <thead>\n",
       "    <tr style=\"text-align: right;\">\n",
       "      <th></th>\n",
       "      <th>reasoner_id</th>\n",
       "      <th>score</th>\n",
       "      <th>node_bindings.n0</th>\n",
       "      <th>node_bindings.n1</th>\n",
       "      <th>node_bindings.n2</th>\n",
       "    </tr>\n",
       "  </thead>\n",
       "  <tbody>\n",
       "    <tr>\n",
       "      <th>0</th>\n",
       "      <td>BTE</td>\n",
       "      <td>2.906806</td>\n",
       "      <td>PUBCHEM.COMPOUND:123596</td>\n",
       "      <td>NCBIGene:7422</td>\n",
       "      <td>HP:0002099</td>\n",
       "    </tr>\n",
       "    <tr>\n",
       "      <th>2</th>\n",
       "      <td>BTE</td>\n",
       "      <td>0.851030</td>\n",
       "      <td>PUBCHEM.COMPOUND:123596</td>\n",
       "      <td>NCBIGene:4067</td>\n",
       "      <td>HP:0002099</td>\n",
       "    </tr>\n",
       "    <tr>\n",
       "      <th>5</th>\n",
       "      <td>BTE</td>\n",
       "      <td>0.000000</td>\n",
       "      <td>PUBCHEM.COMPOUND:123596</td>\n",
       "      <td>NCBIGene:5156</td>\n",
       "      <td>HP:0002099</td>\n",
       "    </tr>\n",
       "  </tbody>\n",
       "</table>\n",
       "</div>"
      ],
      "text/plain": [
       "  reasoner_id     score         node_bindings.n0 node_bindings.n1  \\\n",
       "0         BTE  2.906806  PUBCHEM.COMPOUND:123596    NCBIGene:7422   \n",
       "2         BTE  0.851030  PUBCHEM.COMPOUND:123596    NCBIGene:4067   \n",
       "5         BTE  0.000000  PUBCHEM.COMPOUND:123596    NCBIGene:5156   \n",
       "\n",
       "  node_bindings.n2  \n",
       "0       HP:0002099  \n",
       "2       HP:0002099  \n",
       "5       HP:0002099  "
      ]
     },
     "metadata": {},
     "output_type": "display_data"
    },
    {
     "data": {
      "text/html": [
       "<hr>"
      ],
      "text/plain": [
       "<IPython.core.display.HTML object>"
      ]
     },
     "metadata": {},
     "output_type": "display_data"
    },
    {
     "data": {
      "text/html": [
       "<img src=\"https://www.ncbi.nlm.nih.gov/pmc/articles/PMC7023894/bin/nihms-1556086-f0004.jpg\"/>"
      ],
      "text/plain": [
       "<IPython.core.display.Image object>"
      ]
     },
     "metadata": {},
     "output_type": "display_data"
    },
    {
     "data": {
      "text/html": [
       "<h3>3.&nbsp;Key Figure Schematic of Transgelin-2 in the Intracellular Interaction and Signaling Mechanism</h3>&nbsp;&nbsp;&nbsp;&nbsp; * <a href=\"https://pfocr.wikipathways.org/figures/PMC7023894__nihms-1556086-f0004.html\" target=\"_blank\">Link to pathway figure at PFOCR</a> * <a href=\"https://www.ncbi.nlm.nih.gov/pmc/articles/PMC7023894\" target=\"_blank\">Link to article at PMC</a>"
      ],
      "text/plain": [
       "<IPython.core.display.HTML object>"
      ]
     },
     "metadata": {},
     "output_type": "display_data"
    },
    {
     "name": "stdout",
     "output_type": "stream",
     "text": [
      "Number of TRAPI results represented by this pathway: 7\n",
      "Number of CURIEs represented by this pathway: 1\n",
      "Query-specified CURIEs in this pathway: set()\n"
     ]
    },
    {
     "data": {
      "text/html": [
       "<div>\n",
       "<style scoped>\n",
       "    .dataframe tbody tr th:only-of-type {\n",
       "        vertical-align: middle;\n",
       "    }\n",
       "\n",
       "    .dataframe tbody tr th {\n",
       "        vertical-align: top;\n",
       "    }\n",
       "\n",
       "    .dataframe thead th {\n",
       "        text-align: right;\n",
       "    }\n",
       "</style>\n",
       "<table border=\"1\" class=\"dataframe\">\n",
       "  <thead>\n",
       "    <tr style=\"text-align: right;\">\n",
       "      <th></th>\n",
       "      <th>reasoner_id</th>\n",
       "      <th>score</th>\n",
       "      <th>node_bindings.n0</th>\n",
       "      <th>node_bindings.n1</th>\n",
       "      <th>node_bindings.n2</th>\n",
       "    </tr>\n",
       "  </thead>\n",
       "  <tbody>\n",
       "    <tr>\n",
       "      <th>0</th>\n",
       "      <td>BTE</td>\n",
       "      <td>2.906806</td>\n",
       "      <td>PUBCHEM.COMPOUND:123596</td>\n",
       "      <td>NCBIGene:7422</td>\n",
       "      <td>HP:0002099</td>\n",
       "    </tr>\n",
       "    <tr>\n",
       "      <th>1</th>\n",
       "      <td>BTE</td>\n",
       "      <td>1.120319</td>\n",
       "      <td>PUBCHEM.COMPOUND:123596</td>\n",
       "      <td>NCBIGene:841</td>\n",
       "      <td>HP:0002099</td>\n",
       "    </tr>\n",
       "    <tr>\n",
       "      <th>2</th>\n",
       "      <td>BTE</td>\n",
       "      <td>0.851030</td>\n",
       "      <td>PUBCHEM.COMPOUND:123596</td>\n",
       "      <td>NCBIGene:4067</td>\n",
       "      <td>HP:0002099</td>\n",
       "    </tr>\n",
       "    <tr>\n",
       "      <th>3</th>\n",
       "      <td>BTE</td>\n",
       "      <td>0.796666</td>\n",
       "      <td>PUBCHEM.COMPOUND:123596</td>\n",
       "      <td>NCBIGene:3576</td>\n",
       "      <td>HP:0002099</td>\n",
       "    </tr>\n",
       "    <tr>\n",
       "      <th>4</th>\n",
       "      <td>BTE</td>\n",
       "      <td>0.000000</td>\n",
       "      <td>PUBCHEM.COMPOUND:123596</td>\n",
       "      <td>NCBIGene:142</td>\n",
       "      <td>HP:0002099</td>\n",
       "    </tr>\n",
       "    <tr>\n",
       "      <th>5</th>\n",
       "      <td>BTE</td>\n",
       "      <td>0.000000</td>\n",
       "      <td>PUBCHEM.COMPOUND:123596</td>\n",
       "      <td>NCBIGene:5156</td>\n",
       "      <td>HP:0002099</td>\n",
       "    </tr>\n",
       "    <tr>\n",
       "      <th>6</th>\n",
       "      <td>BTE</td>\n",
       "      <td>0.000000</td>\n",
       "      <td>PUBCHEM.COMPOUND:123596</td>\n",
       "      <td>NCBIGene:3725</td>\n",
       "      <td>HP:0002099</td>\n",
       "    </tr>\n",
       "  </tbody>\n",
       "</table>\n",
       "</div>"
      ],
      "text/plain": [
       "  reasoner_id     score         node_bindings.n0 node_bindings.n1  \\\n",
       "0         BTE  2.906806  PUBCHEM.COMPOUND:123596    NCBIGene:7422   \n",
       "1         BTE  1.120319  PUBCHEM.COMPOUND:123596     NCBIGene:841   \n",
       "2         BTE  0.851030  PUBCHEM.COMPOUND:123596    NCBIGene:4067   \n",
       "3         BTE  0.796666  PUBCHEM.COMPOUND:123596    NCBIGene:3576   \n",
       "4         BTE  0.000000  PUBCHEM.COMPOUND:123596     NCBIGene:142   \n",
       "5         BTE  0.000000  PUBCHEM.COMPOUND:123596    NCBIGene:5156   \n",
       "6         BTE  0.000000  PUBCHEM.COMPOUND:123596    NCBIGene:3725   \n",
       "\n",
       "  node_bindings.n2  \n",
       "0       HP:0002099  \n",
       "1       HP:0002099  \n",
       "2       HP:0002099  \n",
       "3       HP:0002099  \n",
       "4       HP:0002099  \n",
       "5       HP:0002099  \n",
       "6       HP:0002099  "
      ]
     },
     "metadata": {},
     "output_type": "display_data"
    }
   ],
   "source": [
    "from IPython.display import display, Image\n",
    "from IPython.core.display import HTML \n",
    "\n",
    "print('Total number of pathway figure results:', len(pathway_figure_df.index))\n",
    "\n",
    "for index, row in pathway_figure_df.iterrows():\n",
    "    figid = row['figure_id']\n",
    "    fpmc,fname = figid.split(\"__\")\n",
    "    furl = \"https://www.ncbi.nlm.nih.gov/pmc/articles/\"+fpmc+\"/bin/\"+fname\n",
    "    pfocrurl = \"https://pfocr.wikipathways.org/figures/\"+figid.replace(\".jpg\",\".html\")\n",
    "    fdf = trapi_results_df[trapi_results_df['result_name'].isin(row['trapi_result_set'])]\n",
    "    \n",
    "    #time to display\n",
    "    display(HTML('<hr>'))\n",
    "    display(Image(url=furl))\n",
    "    display(HTML('<h3>'+str(index+1)+'.&nbsp;'+figure_metadata_df.loc[figid]['figure_title']+'</h3>'+\n",
    "                 '&nbsp;&nbsp;&nbsp;&nbsp; * <a href=\"'+pfocrurl+'\" target=\"_blank\">Link to pathway figure at PFOCR</a>'+\n",
    "                 ' * <a href=\"https://www.ncbi.nlm.nih.gov/pmc/articles/'+fpmc+'\" target=\"_blank\">Link to article at PMC</a>'))\n",
    "    print('Number of TRAPI results represented by this pathway:',len(row['trapi_result_set']))\n",
    "    print('Number of CURIEs represented by this pathway:',\n",
    "          len(row['figure_curies_in_trapi_results']))\n",
    "    print('Query-specified CURIEs in this pathway:',\n",
    "          row['curie_set'].intersection(user_specified_ids))\n",
    "    display(fdf[display_columns])"
   ]
  },
  {
   "cell_type": "markdown",
   "metadata": {},
   "source": [
    "### Matrix of TRAPI results by pathway figures\n",
    "\n",
    "A binary heatmap: rows are TRAPI result names sorted by original result number (e.g., 0-7), and columns are pathway figures sorted by significance (i.e., iteration order). Note: the query-specified nodes are excluded from the overlap logic, otherwise all results would overlap with all pathway figures."
   ]
  },
  {
   "cell_type": "code",
   "execution_count": 11,
   "metadata": {},
   "outputs": [
    {
     "name": "stdout",
     "output_type": "stream",
     "text": [
      "Total number of TRAPI results represented by pathways: 7 out of 7\n"
     ]
    }
   ],
   "source": [
    "#as heatmap, sorting rows by pathway figure groupings\n",
    "pathway_figure_df_tall = pathway_figure_df[[\"figure_id\",\"trapi_result_set\"]].explode(\"trapi_result_set\")\n",
    "rep_trapi_result_count = len(pathway_figure_df_tall['trapi_result_set'].unique())\n",
    "pathway_figure_df_tall = pathway_figure_df_tall.rename(columns={\"trapi_result_set\": \"TRAPI results\"})\n",
    "pathway_figure_df_tall\n",
    "pathway_figure_df_tall[\"value\"]=1\n",
    "df=pd.pivot_table(pathway_figure_df_tall, values=\"value\", index=[\"TRAPI results\"], columns=\"figure_id\", fill_value=0)\n",
    "df=df[pathway_figure_df['figure_id']]\n",
    "df=df.sort_values(by=list(df.columns))\n",
    "print('Total number of TRAPI results represented by pathways:', rep_trapi_result_count, 'out of', len(trapi_results_df.index))"
   ]
  },
  {
   "cell_type": "code",
   "execution_count": 12,
   "metadata": {},
   "outputs": [
    {
     "name": "stdout",
     "output_type": "stream",
     "text": [
      "Pathway figures by TRAPI results, sorting rows by pathway figure groupings  (not all 7 row names are shown)\n"
     ]
    },
    {
     "data": {
      "image/png": "[encoded data removed]",
      "text/plain": [
       "<Figure size 216x432 with 1 Axes>"
      ]
     },
     "metadata": {
      "needs_background": "light"
     },
     "output_type": "display_data"
    }
   ],
   "source": [
    "plt_w = len(pathway_figure_df.index)\n",
    "plt_h = min(rep_trapi_result_count,plt_w*2)\n",
    "plt.figure(figsize = (plt_w,plt_h))\n",
    "sns.set()\n",
    "sns.heatmap(df, cmap=plt.get_cmap('binary'), cbar=False) # yticklabels=True\n",
    "if(plt_h ==rep_trapi_result_count):\n",
    "    print('Pathway figures by TRAPI results, sorting rows by pathway figure groupings')\n",
    "else:\n",
    "    print('Pathway figures by TRAPI results, sorting rows by pathway figure groupings  (not all',rep_trapi_result_count,'row names are shown)')\n",
    "plt.show()"
   ]
  },
  {
   "cell_type": "code",
   "execution_count": 13,
   "metadata": {},
   "outputs": [
    {
     "name": "stdout",
     "output_type": "stream",
     "text": [
      "Pathway figures by TRAPI results, sorting rows by result order  (not all 7 row names are shown)\n"
     ]
    },
    {
     "data": {
      "image/png": "[encoded data removed]",
      "text/plain": [
       "<Figure size 216x432 with 1 Axes>"
      ]
     },
     "metadata": {},
     "output_type": "display_data"
    }
   ],
   "source": [
    "#as heatmap, sorting rows by original TRAPI result order\n",
    "sorted_result_bool=trapi_results_df['result_name'].isin(df.index)\n",
    "sorted_result_names=trapi_results_df.loc[sorted_result_bool,'result_name']\n",
    "sorted_result_index=pd.Index(sorted_result_names)\n",
    "df=df.reindex(sorted_result_index[::-1])\n",
    "plt_w = len(pathway_figure_df.index)\n",
    "plt_h = min(rep_trapi_result_count,plt_w*2)\n",
    "plt.figure(figsize = (plt_w,plt_h))\n",
    "sns.set()\n",
    "sns.heatmap(df, cmap=plt.get_cmap('binary'), cbar=False) # yticklabels=True\n",
    "if(plt_h ==rep_trapi_result_count):\n",
    "    print('Pathway figures by TRAPI results, sorting rows by result order')\n",
    "else:\n",
    "    print('Pathway figures by TRAPI results, sorting rows by result order  (not all',rep_trapi_result_count,'row names are shown)')\n",
    "plt.show()"
   ]
  },
  {
   "cell_type": "markdown",
   "metadata": {},
   "source": [
    "### Matrix of result CURIEs by pathway figures\n",
    "\n",
    "A binary heatmap of CURIES grouped by pathway figures, sorted by significance (i.e., iteration order)."
   ]
  },
  {
   "cell_type": "code",
   "execution_count": 14,
   "metadata": {},
   "outputs": [
    {
     "name": "stdout",
     "output_type": "stream",
     "text": [
      "Total number of CURIEs represented by pathways: 8 out of 8\n"
     ]
    }
   ],
   "source": [
    "pathway_figure_df_tall_2 = pathway_figure_df[[\"figure_id\",\"figure_curies_in_trapi_results\"]].explode(\"figure_curies_in_trapi_results\")\n",
    "rep_curie_count = len(pathway_figure_df_tall_2['figure_curies_in_trapi_results'].unique())\n",
    "pathway_figure_df_tall_2 = pathway_figure_df_tall_2.rename(columns={\"figure_curies_in_trapi_results\": \"curies\"})\n",
    "pathway_figure_df_tall_2\n",
    "pathway_figure_df_tall_2[\"value\"]=1\n",
    "df2=pd.pivot_table(pathway_figure_df_tall_2, values=\"value\", index=[\"curies\"], columns=\"figure_id\", fill_value=0)\n",
    "df2=df2[pathway_figure_df['figure_id']]\n",
    "df2=df2.sort_values(by=list(df.columns))\n",
    "#display(df2)\n",
    "print('Total number of CURIEs represented by pathways:', rep_curie_count, 'out of', len(total_result_curies_possible ))"
   ]
  },
  {
   "cell_type": "code",
   "execution_count": 15,
   "metadata": {},
   "outputs": [
    {
     "name": "stdout",
     "output_type": "stream",
     "text": [
      "Pathway figures by CURIEs (not all 8 row names are shown)\n"
     ]
    },
    {
     "data": {
      "image/png": "[encoded data removed]",
      "text/plain": [
       "<Figure size 216x432 with 1 Axes>"
      ]
     },
     "metadata": {},
     "output_type": "display_data"
    }
   ],
   "source": [
    "#as heatmap\n",
    "import matplotlib.pyplot as plt\n",
    "import seaborn as sns\n",
    "from matplotlib.colors import LinearSegmentedColormap\n",
    "plt_w = len(pathway_figure_df.index)\n",
    "plt_h = min(rep_curie_count,plt_w*2)\n",
    "plt.figure(figsize = (plt_w,plt_h))\n",
    "sns.set()\n",
    "sns.heatmap(df2, cmap=plt.get_cmap('binary'), cbar=False) # yticklabels=True\n",
    "if(plt_h ==rep_curie_count):\n",
    "    print('Pathway figures by CURIEs')\n",
    "else:\n",
    "    print('Pathway figures by CURIEs (not all',rep_curie_count,'row names are shown)')\n",
    "plt.show()"
   ]
  },
  {
   "cell_type": "code",
   "execution_count": null,
   "metadata": {},
   "outputs": [],
   "source": []
  }
 ],
 "metadata": {
  "colab": {
   "authorship_tag": "ABX9TyP6xHxRuuT/oO2JrYOIGJq6",
   "include_colab_link": true,
   "provenance": []
  },
  "kernelspec": {
   "display_name": "Python 3 (ipykernel)",
   "language": "python",
   "name": "python3"
  },
  "language_info": {
   "codemirror_mode": {
    "name": "ipython",
    "version": 3
   },
   "file_extension": ".py",
   "mimetype": "text/x-python",
   "name": "python",
   "nbconvert_exporter": "python",
   "pygments_lexer": "ipython3",
   "version": "3.9.7"
  }
 },
 "nbformat": 4,
 "nbformat_minor": 1
}
